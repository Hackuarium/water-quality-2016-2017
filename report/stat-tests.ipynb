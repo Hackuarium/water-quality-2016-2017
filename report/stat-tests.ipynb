{
 "cells": [
  {
   "cell_type": "code",
   "execution_count": 9,
   "id": "tender-victor",
   "metadata": {},
   "outputs": [],
   "source": [
    "import pandas as pd\n",
    "import numpy as np\n",
    "import matplotlib\n",
    "import matplotlib.pyplot as plt\n",
    "import matplotlib.ticker\n",
    "import os\n",
    "import seaborn as sns\n",
    "from scipy import stats\n",
    "from mlxtend.evaluate import permutation_test"
   ]
  },
  {
   "cell_type": "code",
   "execution_count": 35,
   "id": "outer-queen",
   "metadata": {},
   "outputs": [
    {
     "data": {
      "text/html": [
       "<div>\n",
       "<style scoped>\n",
       "    .dataframe tbody tr th:only-of-type {\n",
       "        vertical-align: middle;\n",
       "    }\n",
       "\n",
       "    .dataframe tbody tr th {\n",
       "        vertical-align: top;\n",
       "    }\n",
       "\n",
       "    .dataframe thead th {\n",
       "        text-align: right;\n",
       "    }\n",
       "</style>\n",
       "<table border=\"1\" class=\"dataframe\">\n",
       "  <thead>\n",
       "    <tr style=\"text-align: right;\">\n",
       "      <th></th>\n",
       "      <th>week</th>\n",
       "      <th>cfu</th>\n",
       "      <th>name</th>\n",
       "      <th>nights</th>\n",
       "      <th>rain</th>\n",
       "    </tr>\n",
       "  </thead>\n",
       "  <tbody>\n",
       "    <tr>\n",
       "      <th>0</th>\n",
       "      <td>Week one</td>\n",
       "      <td>8.333333</td>\n",
       "      <td>Bioindicator UV+ 17</td>\n",
       "      <td>51409</td>\n",
       "      <td>5.3</td>\n",
       "    </tr>\n",
       "    <tr>\n",
       "      <th>1</th>\n",
       "      <td>Week two</td>\n",
       "      <td>8.333333</td>\n",
       "      <td>Bioindicator UV+ 17</td>\n",
       "      <td>51409</td>\n",
       "      <td>1.2</td>\n",
       "    </tr>\n",
       "    <tr>\n",
       "      <th>2</th>\n",
       "      <td>Week three</td>\n",
       "      <td>33.333333</td>\n",
       "      <td>Bioindicator UV+ 17</td>\n",
       "      <td>51409</td>\n",
       "      <td>22.3</td>\n",
       "    </tr>\n",
       "    <tr>\n",
       "      <th>3</th>\n",
       "      <td>Week four</td>\n",
       "      <td>258.333333</td>\n",
       "      <td>Bioindicator UV+ 17</td>\n",
       "      <td>63675</td>\n",
       "      <td>8.2</td>\n",
       "    </tr>\n",
       "    <tr>\n",
       "      <th>4</th>\n",
       "      <td>Week five</td>\n",
       "      <td>233.333333</td>\n",
       "      <td>Bioindicator UV+ 17</td>\n",
       "      <td>63675</td>\n",
       "      <td>22.0</td>\n",
       "    </tr>\n",
       "    <tr>\n",
       "      <th>...</th>\n",
       "      <td>...</td>\n",
       "      <td>...</td>\n",
       "      <td>...</td>\n",
       "      <td>...</td>\n",
       "      <td>...</td>\n",
       "    </tr>\n",
       "    <tr>\n",
       "      <th>115</th>\n",
       "      <td>Week four</td>\n",
       "      <td>850.000000</td>\n",
       "      <td>Coliform 16</td>\n",
       "      <td>63896</td>\n",
       "      <td>22.2</td>\n",
       "    </tr>\n",
       "    <tr>\n",
       "      <th>116</th>\n",
       "      <td>Week five</td>\n",
       "      <td>8.333333</td>\n",
       "      <td>Coliform 16</td>\n",
       "      <td>63896</td>\n",
       "      <td>5.7</td>\n",
       "    </tr>\n",
       "    <tr>\n",
       "      <th>117</th>\n",
       "      <td>Week six</td>\n",
       "      <td>8.333333</td>\n",
       "      <td>Coliform 16</td>\n",
       "      <td>63896</td>\n",
       "      <td>8.3</td>\n",
       "    </tr>\n",
       "    <tr>\n",
       "      <th>118</th>\n",
       "      <td>Week seven</td>\n",
       "      <td>8.333333</td>\n",
       "      <td>Coliform 16</td>\n",
       "      <td>60500</td>\n",
       "      <td>12.5</td>\n",
       "    </tr>\n",
       "    <tr>\n",
       "      <th>119</th>\n",
       "      <td>Week eight</td>\n",
       "      <td>8.333333</td>\n",
       "      <td>Coliform 16</td>\n",
       "      <td>60500</td>\n",
       "      <td>11.6</td>\n",
       "    </tr>\n",
       "  </tbody>\n",
       "</table>\n",
       "<p>120 rows × 5 columns</p>\n",
       "</div>"
      ],
      "text/plain": [
       "           week         cfu                 name  nights  rain\n",
       "0      Week one    8.333333  Bioindicator UV+ 17   51409   5.3\n",
       "1      Week two    8.333333  Bioindicator UV+ 17   51409   1.2\n",
       "2    Week three   33.333333  Bioindicator UV+ 17   51409  22.3\n",
       "3     Week four  258.333333  Bioindicator UV+ 17   63675   8.2\n",
       "4     Week five  233.333333  Bioindicator UV+ 17   63675  22.0\n",
       "..          ...         ...                  ...     ...   ...\n",
       "115   Week four  850.000000          Coliform 16   63896  22.2\n",
       "116   Week five    8.333333          Coliform 16   63896   5.7\n",
       "117    Week six    8.333333          Coliform 16   63896   8.3\n",
       "118  Week seven    8.333333          Coliform 16   60500  12.5\n",
       "119  Week eight    8.333333          Coliform 16   60500  11.6\n",
       "\n",
       "[120 rows x 5 columns]"
      ]
     },
     "execution_count": 35,
     "metadata": {},
     "output_type": "execute_result"
    }
   ],
   "source": [
    "D = pd.read_pickle('data16-17.pkl')\n",
    "D"
   ]
  },
  {
   "cell_type": "code",
   "execution_count": 36,
   "id": "level-selling",
   "metadata": {},
   "outputs": [],
   "source": [
    "# Specifying festival period in each dataset\n",
    "D['festival']=0\n",
    "D.loc[D['name'].str.contains(\"16\") & D['week'].str.contains('|'.join(['Week three', 'Week four'])), 'festival']=1\n",
    "D.loc[D['name'].str.contains(\"17\") & D['week'].str.contains('|'.join(['Week four', 'Week five'])), 'festival']=1"
   ]
  },
  {
   "cell_type": "code",
   "execution_count": 30,
   "id": "married-valuation",
   "metadata": {},
   "outputs": [],
   "source": [
    "#print(stats.ttest_rel(FI, FO))"
   ]
  },
  {
   "cell_type": "code",
   "execution_count": 40,
   "id": "needed-secondary",
   "metadata": {},
   "outputs": [
    {
     "name": "stdout",
     "output_type": "stream",
     "text": [
      "9.999000099990002e-05\n"
     ]
    }
   ],
   "source": [
    "# Permutation test for combined off-festival vs festival period\n",
    "p_value = permutation_test( D.loc[D['festival'] == 1, 'cfu'], D.loc[D['festival'] == 0, 'cfu'],\n",
    "                           method='approximate',\n",
    "                           num_rounds=10000,\n",
    "                           seed=0)\n",
    "print(p_value)"
   ]
  },
  {
   "cell_type": "code",
   "execution_count": 42,
   "id": "worldwide-malta",
   "metadata": {},
   "outputs": [
    {
     "name": "stdout",
     "output_type": "stream",
     "text": [
      "0.035996400359964\n"
     ]
    }
   ],
   "source": [
    "# Permutation test for 16 vs f17\n",
    "p_value = permutation_test( D.loc[D['name'].str.contains(\"16\"), 'cfu'], D.loc[D['name'].str.contains(\"17\"), 'cfu'],\n",
    "                           method='approximate',\n",
    "                           num_rounds=10000,\n",
    "                           seed=0)\n",
    "print(p_value)"
   ]
  },
  {
   "cell_type": "code",
   "execution_count": 44,
   "id": "furnished-setup",
   "metadata": {},
   "outputs": [
    {
     "data": {
      "text/html": [
       "<div>\n",
       "<style scoped>\n",
       "    .dataframe tbody tr th:only-of-type {\n",
       "        vertical-align: middle;\n",
       "    }\n",
       "\n",
       "    .dataframe tbody tr th {\n",
       "        vertical-align: top;\n",
       "    }\n",
       "\n",
       "    .dataframe thead th {\n",
       "        text-align: right;\n",
       "    }\n",
       "</style>\n",
       "<table border=\"1\" class=\"dataframe\">\n",
       "  <thead>\n",
       "    <tr style=\"text-align: right;\">\n",
       "      <th></th>\n",
       "      <th>cfu</th>\n",
       "      <th>nights</th>\n",
       "      <th>rain</th>\n",
       "      <th>festival</th>\n",
       "    </tr>\n",
       "  </thead>\n",
       "  <tbody>\n",
       "    <tr>\n",
       "      <th>cfu</th>\n",
       "      <td>1.000000</td>\n",
       "      <td>0.389322</td>\n",
       "      <td>0.264039</td>\n",
       "      <td>0.621482</td>\n",
       "    </tr>\n",
       "    <tr>\n",
       "      <th>nights</th>\n",
       "      <td>0.389322</td>\n",
       "      <td>1.000000</td>\n",
       "      <td>0.252329</td>\n",
       "      <td>0.466867</td>\n",
       "    </tr>\n",
       "    <tr>\n",
       "      <th>rain</th>\n",
       "      <td>0.264039</td>\n",
       "      <td>0.252329</td>\n",
       "      <td>1.000000</td>\n",
       "      <td>0.292429</td>\n",
       "    </tr>\n",
       "    <tr>\n",
       "      <th>festival</th>\n",
       "      <td>0.621482</td>\n",
       "      <td>0.466867</td>\n",
       "      <td>0.292429</td>\n",
       "      <td>1.000000</td>\n",
       "    </tr>\n",
       "  </tbody>\n",
       "</table>\n",
       "</div>"
      ],
      "text/plain": [
       "               cfu    nights      rain  festival\n",
       "cfu       1.000000  0.389322  0.264039  0.621482\n",
       "nights    0.389322  1.000000  0.252329  0.466867\n",
       "rain      0.264039  0.252329  1.000000  0.292429\n",
       "festival  0.621482  0.466867  0.292429  1.000000"
      ]
     },
     "execution_count": 44,
     "metadata": {},
     "output_type": "execute_result"
    }
   ],
   "source": [
    "\n"
   ]
  },
  {
   "cell_type": "code",
   "execution_count": 45,
   "id": "vietnamese-airport",
   "metadata": {},
   "outputs": [
    {
     "data": {
      "text/html": [
       "<div>\n",
       "<style scoped>\n",
       "    .dataframe tbody tr th:only-of-type {\n",
       "        vertical-align: middle;\n",
       "    }\n",
       "\n",
       "    .dataframe tbody tr th {\n",
       "        vertical-align: top;\n",
       "    }\n",
       "\n",
       "    .dataframe thead th {\n",
       "        text-align: right;\n",
       "    }\n",
       "</style>\n",
       "<table border=\"1\" class=\"dataframe\">\n",
       "  <thead>\n",
       "    <tr style=\"text-align: right;\">\n",
       "      <th></th>\n",
       "      <th>cfu</th>\n",
       "      <th>nights</th>\n",
       "      <th>rain</th>\n",
       "      <th>festival</th>\n",
       "    </tr>\n",
       "  </thead>\n",
       "  <tbody>\n",
       "    <tr>\n",
       "      <th>cfu</th>\n",
       "      <td>1.000000</td>\n",
       "      <td>0.236118</td>\n",
       "      <td>0.198588</td>\n",
       "      <td>0.560744</td>\n",
       "    </tr>\n",
       "    <tr>\n",
       "      <th>nights</th>\n",
       "      <td>0.236118</td>\n",
       "      <td>1.000000</td>\n",
       "      <td>0.297693</td>\n",
       "      <td>0.482617</td>\n",
       "    </tr>\n",
       "    <tr>\n",
       "      <th>rain</th>\n",
       "      <td>0.198588</td>\n",
       "      <td>0.297693</td>\n",
       "      <td>1.000000</td>\n",
       "      <td>0.313112</td>\n",
       "    </tr>\n",
       "    <tr>\n",
       "      <th>festival</th>\n",
       "      <td>0.560744</td>\n",
       "      <td>0.482617</td>\n",
       "      <td>0.313112</td>\n",
       "      <td>1.000000</td>\n",
       "    </tr>\n",
       "  </tbody>\n",
       "</table>\n",
       "</div>"
      ],
      "text/plain": [
       "               cfu    nights      rain  festival\n",
       "cfu       1.000000  0.236118  0.198588  0.560744\n",
       "nights    0.236118  1.000000  0.297693  0.482617\n",
       "rain      0.198588  0.297693  1.000000  0.313112\n",
       "festival  0.560744  0.482617  0.313112  1.000000"
      ]
     },
     "execution_count": 45,
     "metadata": {},
     "output_type": "execute_result"
    }
   ],
   "source": [
    "# Correlation of Coliform vs. nights and rain\n",
    "D[D['name'].str.contains(\"Coliform\")].corr(method ='spearman') "
   ]
  },
  {
   "cell_type": "code",
   "execution_count": null,
   "id": "associate-coverage",
   "metadata": {},
   "outputs": [],
   "source": []
  }
 ],
 "metadata": {
  "kernelspec": {
   "display_name": "Python 3",
   "language": "python",
   "name": "python3"
  },
  "language_info": {
   "codemirror_mode": {
    "name": "ipython",
    "version": 3
   },
   "file_extension": ".py",
   "mimetype": "text/x-python",
   "name": "python",
   "nbconvert_exporter": "python",
   "pygments_lexer": "ipython3",
   "version": "3.9.2"
  }
 },
 "nbformat": 4,
 "nbformat_minor": 5
}
